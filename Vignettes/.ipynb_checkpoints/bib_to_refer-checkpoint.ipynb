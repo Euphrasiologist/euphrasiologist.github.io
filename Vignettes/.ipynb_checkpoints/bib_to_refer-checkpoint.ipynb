{
 "cells": [
  {
   "cell_type": "code",
   "execution_count": 29,
   "metadata": {},
   "outputs": [],
   "source": [
    "#!/usr/bin/python3\n",
    "\n",
    "import bibtexparser\n",
    "import re"
   ]
  },
  {
   "cell_type": "code",
   "execution_count": 2,
   "metadata": {},
   "outputs": [],
   "source": [
    "bib_to_refer = {\"author\":\"%A\",\n",
    "                \"title\":\"%T\",\n",
    "                \"journal\":\"%J\",\n",
    "                \"volume\":\"%V\",\n",
    "                \"number\":\"%N\",\n",
    "                \"pages\":\"%P\",\n",
    "                \"year\":\"%D\"}"
   ]
  },
  {
   "cell_type": "code",
   "execution_count": 77,
   "metadata": {},
   "outputs": [
    {
     "name": "stdout",
     "output_type": "stream",
     "text": [
      "[{'type': 'Journal Article', 'year': '2009', 'url': '<Go to ISI>://WOS:000265084200011', 'doi': '10.1007/s10530-008-9390-3', 'issn': '1387-3547', 'pages': '1205-1215', 'number': '5', 'volume': '11', 'journal': 'Biological Invasions', 'title': 'Hybridization-prone plant families do not generate more invasive species', 'author': 'Whitney, K. D. and Ahern, J. R. and Campbell, L. G.', 'ENTRYTYPE': 'article', 'ID': 'RN1162'}, {'type': 'Journal Article', 'year': '2009', 'url': '<Go to ISI>://WOS:000265084200011', 'doi': '10.1007/s10530-008-9390-3', 'issn': '1387-3547', 'pages': '1205-1215', 'number': '100', 'volume': '11', 'journal': 'Biological Twats', 'title': 'Yolo plant families do not generate more invasive species', 'author': 'Twat, K. D. and Ahern, J. R. and Twat, L. G.', 'ENTRYTYPE': 'article', 'ID': 'RN1162'}]\n"
     ]
    }
   ],
   "source": [
    "with open(\"./test.bib\") as bibtex_file:\n",
    "    bib_database = bibtexparser.load(bibtex_file)\n",
    "\n",
    "print(bib_database.entries)"
   ]
  },
  {
   "cell_type": "code",
   "execution_count": 79,
   "metadata": {},
   "outputs": [
    {
     "name": "stdout",
     "output_type": "stream",
     "text": [
      "{'year': '2009', 'pages': '1205-1215', 'number': '5', 'volume': '11', 'journal': 'Biological Invasions', 'title': 'Hybridization-prone plant families do not generate more invasive species', 'author': 'Whitney, K. D. and Ahern, J. R. and Campbell, L. G.'}\n"
     ]
    }
   ],
   "source": [
    "# shows which keys are in both dictionaries\n",
    "common_keys = [key for key,value in bib_database.entries[0].items() if key in bib_to_refer]\n",
    "# create dictionary of key and value from key in large dictionary if key is present in common keys.\n",
    "subset_dict = dict((key, bib_database.entries[0][key]) for key in common_keys if key in bib_database.entries[0])\n",
    "print(subset_dict)"
   ]
  },
  {
   "cell_type": "code",
   "execution_count": null,
   "metadata": {},
   "outputs": [],
   "source": []
  },
  {
   "cell_type": "code",
   "execution_count": null,
   "metadata": {},
   "outputs": [],
   "source": []
  },
  {
   "cell_type": "code",
   "execution_count": 17,
   "metadata": {},
   "outputs": [
    {
     "name": "stdout",
     "output_type": "stream",
     "text": [
      "{'%A': 'Whitney, K. D. and Ahern, J. R. and Campbell, L. G.', '%T': 'Hybridization-prone plant families do not generate more invasive species', '%J': 'Biological Invasions', '%V': '11', '%N': '5', '%P': '1205-1215', '%D': '2009'}\n"
     ]
    }
   ],
   "source": [
    "# now to replace the keys in subset_dict with keys from bib_to_refer\n",
    "subset_dict_refer = dict((value,subset_dict[key]) for (key, value) in bib_to_refer.items())\n",
    "print(subset_dict_refer)"
   ]
  },
  {
   "cell_type": "code",
   "execution_count": 73,
   "metadata": {},
   "outputs": [
    {
     "name": "stdout",
     "output_type": "stream",
     "text": [
      "['%A Whitney, K. D. and Ahern, J. R. and Campbell, L. G.', '%T Hybridization-prone plant families do not generate more invasive species', '%J Biological Invasions', '%V 11', '%N 5', '%P 1205-1215', '%D 2009']\n"
     ]
    }
   ],
   "source": [
    "# lastly split %A records with multiple authors. fuck.\n",
    "subset_dict_refer_ls = []\n",
    "for key, value in subset_dict_refer.items():\n",
    "    subset_dict_refer_ls.append(key + \" \" + value)\n",
    "    \n",
    "print(subset_dict_refer_ls)"
   ]
  },
  {
   "cell_type": "code",
   "execution_count": 32,
   "metadata": {},
   "outputs": [
    {
     "name": "stdout",
     "output_type": "stream",
     "text": [
      "['%A Whitney, K. D. and Ahern, J. R. and Campbell, L. G.']\n"
     ]
    }
   ],
   "source": [
    "# match and extract %A\n",
    "r = re.compile(\"%A\")\n",
    "sort_authors = list(filter(r.match, subset_dict_refer_ls)) # Read Note\n",
    "print(sort_authors)"
   ]
  },
  {
   "cell_type": "code",
   "execution_count": 66,
   "metadata": {},
   "outputs": [
    {
     "name": "stdout",
     "output_type": "stream",
     "text": [
      "['%A %A Whitney, K. D.', '%A Ahern, J. R.', '%A Campbell, L. G.']\n"
     ]
    }
   ],
   "source": [
    "# split sort_authors on \" and \" and add %A to start\n",
    "sort_authors_2 = [\"%A \" + s for s in sort_authors[0].split(\" and \")]\n",
    "print(sort_authors_2)"
   ]
  },
  {
   "cell_type": "code",
   "execution_count": 72,
   "metadata": {},
   "outputs": [
    {
     "name": "stdout",
     "output_type": "stream",
     "text": [
      "['%A Whitney, K. D.', '%A Ahern, J. R.', '%A Campbell, L. G.']\n"
     ]
    }
   ],
   "source": [
    "# match and extract %A %A. This is surely stupid and inefficient but I am a novice.\n",
    "sort_authors_3 = []\n",
    "for el in sort_authors_2:\n",
    "    l = el.replace(\"%A %A\", \"%A\")\n",
    "    sort_authors_3.append(l)\n",
    "print(sort_authors_3)"
   ]
  },
  {
   "cell_type": "code",
   "execution_count": 75,
   "metadata": {},
   "outputs": [
    {
     "name": "stdout",
     "output_type": "stream",
     "text": [
      "['%A Whitney, K. D.', '%A Ahern, J. R.', '%A Campbell, L. G.', '%T Hybridization-prone plant families do not generate more invasive species', '%J Biological Invasions', '%V 11', '%N 5', '%P 1205-1215', '%D 2009']\n"
     ]
    }
   ],
   "source": [
    "# append initial list to sort_authors_3\n",
    "final = sort_authors_3 + subset_dict_refer_ls[1:]\n",
    "print(final)"
   ]
  },
  {
   "cell_type": "code",
   "execution_count": null,
   "metadata": {},
   "outputs": [],
   "source": []
  },
  {
   "cell_type": "code",
   "execution_count": null,
   "metadata": {},
   "outputs": [],
   "source": []
  },
  {
   "cell_type": "code",
   "execution_count": null,
   "metadata": {},
   "outputs": [],
   "source": []
  },
  {
   "cell_type": "code",
   "execution_count": null,
   "metadata": {},
   "outputs": [],
   "source": []
  },
  {
   "cell_type": "code",
   "execution_count": null,
   "metadata": {},
   "outputs": [],
   "source": []
  },
  {
   "cell_type": "code",
   "execution_count": null,
   "metadata": {},
   "outputs": [],
   "source": []
  }
 ],
 "metadata": {
  "kernelspec": {
   "display_name": "Python 3",
   "language": "python",
   "name": "python3"
  },
  "language_info": {
   "codemirror_mode": {
    "name": "ipython",
    "version": 3
   },
   "file_extension": ".py",
   "mimetype": "text/x-python",
   "name": "python",
   "nbconvert_exporter": "python",
   "pygments_lexer": "ipython3",
   "version": "3.7.1"
  }
 },
 "nbformat": 4,
 "nbformat_minor": 2
}
